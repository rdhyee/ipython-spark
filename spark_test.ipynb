{
 "cells": [
  {
   "cell_type": "code",
   "execution_count": 1,
   "metadata": {
    "collapsed": false
   },
   "outputs": [],
   "source": [
    "import sys\n",
    "\n",
    "# Now we are ready to import Spark Modules\n",
    "try:\n",
    "    from pyspark import SparkContext\n",
    "    from pyspark import SparkConf\n",
    "\n",
    "except ImportError as e:\n",
    "    print (\"Error importing Spark Modules\", e)\n",
    "    sys.exit(1)"
   ]
  },
  {
   "cell_type": "code",
   "execution_count": 2,
   "metadata": {
    "collapsed": false
   },
   "outputs": [
    {
     "name": "stdout",
     "output_type": "stream",
     "text": [
      "('add up 0 to 10 via reduce', 45)\n",
      "('double 0 to 10 (using collect): ', [0, 2, 4, 6, 8, 10, 12, 14, 16, 18])\n",
      "('double 0 to 10 (using take): ', [0, 2, 4, 6, 8, 10, 12, 14, 16, 18])\n"
     ]
    }
   ],
   "source": [
    "sc = SparkContext()\n",
    "small_ints = sc.parallelize(range(10))\n",
    "\n",
    "print (\"add up 0 to 10 via reduce\", small_ints.reduce(lambda x, y: x+ y))\n",
    "print (\"double 0 to 10 (using collect): \", small_ints.map(lambda x: 2*x).collect())\n",
    "print (\"double 0 to 10 (using take): \", small_ints.map(lambda x: 2*x).take(100))\n"
   ]
  },
  {
   "cell_type": "code",
   "execution_count": null,
   "metadata": {
    "collapsed": false
   },
   "outputs": [],
   "source": []
  }
 ],
 "metadata": {
  "kernelspec": {
   "display_name": "Python 2",
   "name": "python2"
  },
  "language_info": {
   "codemirror_mode": {
    "name": "ipython",
    "version": 2
   },
   "file_extension": ".py",
   "mimetype": "text/x-python",
   "name": "python",
   "nbconvert_exporter": "python",
   "pygments_lexer": "ipython2",
   "version": "2.7.6"
  }
 },
 "nbformat": 4,
 "nbformat_minor": 0
}
